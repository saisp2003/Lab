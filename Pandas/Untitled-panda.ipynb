{
 "cells": [
  {
   "cell_type": "code",
   "execution_count": null,
   "id": "aab4e39a",
   "metadata": {},
   "outputs": [],
   "source": [
    "import pandas as pd\n",
    "s1=pd.Series([1,2,3,4,5])\n",
    "\n",
    "print(s1)"
   ]
  },
  {
   "cell_type": "code",
   "execution_count": null,
   "id": "303bf5d4",
   "metadata": {},
   "outputs": [],
   "source": [
    "\n",
    "import numpy as np\n",
    "\n",
    "\n",
    "arr=np.array([1,2,3,4,5])\n",
    "\n",
    "s2=pd.Series(arr)\n",
    "\n",
    "s2"
   ]
  },
  {
   "cell_type": "code",
   "execution_count": null,
   "id": "aab54d59",
   "metadata": {},
   "outputs": [],
   "source": [
    "std_mark_series=pd.Series(\n",
    "    np.array([467,265,234,566,456]),\n",
    "    index=['A1','A2','A3','A4','A5']\n",
    ")\n",
    "\n",
    "std_mark_series"
   ]
  },
  {
   "cell_type": "code",
   "execution_count": null,
   "id": "65ee48f5",
   "metadata": {},
   "outputs": [],
   "source": [
    "age_series_index=pd.Series(\n",
    "    np.array([20,37,45,25,76,55]),\n",
    "    index=np.arange(0,12,2)\n",
    ")\n",
    "\n",
    "age_series_index"
   ]
  },
  {
   "cell_type": "code",
   "execution_count": null,
   "id": "d54ee6ef",
   "metadata": {},
   "outputs": [],
   "source": [
    "expense_dict={'rent':2500,'grocery':3000,\n",
    "              'travelling':2000,'insurance':5000}\n",
    "\n",
    "expense_series=pd.Series(expense_dict)\n",
    "\n",
    "expense_series"
   ]
  },
  {
   "cell_type": "code",
   "execution_count": null,
   "id": "c876c3f8",
   "metadata": {},
   "outputs": [],
   "source": [
    "classes_dict={\n",
    "    \"A\":[\"Maths\",\"Science\",\"Physics\"],\n",
    "    \"B\":[\"Maths\",\"English\"],\n",
    "    \"C\":\"Chemistry\"\n",
    "}\n",
    "\n",
    "classes_series=pd.Series(classes_dict)\n",
    "\n",
    "classes_series\n",
    "\n"
   ]
  },
  {
   "cell_type": "code",
   "execution_count": null,
   "id": "2b1a2041",
   "metadata": {},
   "outputs": [],
   "source": [
    "classes_dict={\n",
    "    \"A\":[\"Maths\",\"Science\",\"Physics\"],\n",
    "    \"B\":[\"Maths\",\"English\"],\n",
    "    \"C\":\"Chemistry\"\n",
    "}\n",
    "\n",
    "classes_series=pd.Series(classes_dict)\n",
    "\n",
    "classes_series.index"
   ]
  },
  {
   "cell_type": "code",
   "execution_count": null,
   "id": "d10579fd",
   "metadata": {},
   "outputs": [],
   "source": [
    "classes_dict={\n",
    "    \"A\":[\"Maths\",\"Science\",\"Physics\"],\n",
    "    \"B\":[\"Maths\",\"English\"],\n",
    "    \"C\":\"Chemistry\"\n",
    "}\n",
    "\n",
    "classes_series=pd.Series(classes_dict)\n",
    "\n",
    "classes_series.values"
   ]
  },
  {
   "cell_type": "code",
   "execution_count": null,
   "id": "3c78d510",
   "metadata": {},
   "outputs": [],
   "source": [
    "std_data=np.array(['Ram','Sita','Laxmi','Krishna','Arjun','Madhab'])\n",
    "\n",
    "std_data_series=pd.Series(std_data)\n",
    "\n",
    "print(std_data_series[:5])"
   ]
  },
  {
   "cell_type": "code",
   "execution_count": null,
   "id": "2ac9305a",
   "metadata": {},
   "outputs": [],
   "source": [
    "std_data=np.array(['Ram','Sita','Laxmi','Krishna','Arjun','Madhab'])\n",
    "\n",
    "std_data_series=pd.Series(std_data)\n",
    "\n",
    "print(std_data_series[-5:])"
   ]
  },
  {
   "cell_type": "code",
   "execution_count": null,
   "id": "75786ef8",
   "metadata": {},
   "outputs": [],
   "source": [
    "classes_dict={\n",
    "    \"A\":[\"Maths\",\"Science\",\"Physics\"],\n",
    "    \"B\":[\"Maths\",\"English\"],\n",
    "    \"C\":\"Chemistry\"\n",
    "}\n",
    "\n",
    "classes_series=pd.Series(classes_dict)\n",
    "\n",
    "print(classes_series)\n",
    "\n",
    "print(\"\\n\", classes_series['A'])"
   ]
  },
  {
   "cell_type": "code",
   "execution_count": null,
   "id": "2e67e983",
   "metadata": {},
   "outputs": [],
   "source": [
    "classes_dict={\n",
    "    \"A\":[\"Maths\",\"Science\",\"Physics\"],\n",
    "    \"B\":[\"Maths\",\"English\"],\n",
    "    \"C\":\"Chemistry\"\n",
    "}\n",
    "\n",
    "classes_series=pd.Series(classes_dict)\n",
    "\n",
    "print(classes_series)\n",
    "\n",
    "print(\"\\n\", classes_series[['A','B']])"
   ]
  },
  {
   "cell_type": "code",
   "execution_count": null,
   "id": "55e19571",
   "metadata": {},
   "outputs": [],
   "source": [
    "student_series=pd.Series(\n",
    "\n",
    "    np.array([457,456,540,348,502,480]),\n",
    "    index=['Ram','Sita','Laxmi','Krishna','Madhab','Arjun'])\n",
    "\n",
    "\n",
    "student_series[student_series>500]"
   ]
  },
  {
   "cell_type": "code",
   "execution_count": null,
   "id": "2ba3d3db",
   "metadata": {},
   "outputs": [],
   "source": [
    "series1=pd.Series([10,20,30,40,50])\n",
    "\n",
    "series2=pd.Series([2,4,6,8,10])\n",
    "\n",
    "result=series1-series2\n",
    "\n",
    "print(result)"
   ]
  },
  {
   "cell_type": "code",
   "execution_count": null,
   "id": "a017a3c7",
   "metadata": {},
   "outputs": [],
   "source": [
    "sales_series=pd.Series(np.array([200,590,367,678,455]))\n",
    "\n",
    "sales_series*2"
   ]
  },
  {
   "cell_type": "code",
   "execution_count": null,
   "id": "851164eb",
   "metadata": {},
   "outputs": [],
   "source": [
    "student_scores=pd.Series([88,92,75,91,85],\n",
    "                         index=['Alice','Bob','Charlie','David','Eva'])\n",
    "\n",
    "student_ranks=student_scores.rank()\n",
    "\n",
    "print(\"\\nStudent Ranks:\\n\",student_ranks)"
   ]
  },
  {
   "cell_type": "code",
   "execution_count": null,
   "id": "84ddbbcd",
   "metadata": {},
   "outputs": [],
   "source": [
    "import pandas as pd\n",
    "import numpy as np\n",
    "\n",
    "sales_data = pd.Series(\n",
    "    [250, np.nan, 175, 300, np.nan, 220],\n",
    "    index=['Jan', 'Feb', 'Mar', 'Apr', 'May', 'Jun']\n",
    ")\n",
    "\n",
    "sorted_sales = sales_data.sort_values(ascending=False ,na_position='last')\n",
    "\n",
    "print(\"\\n Sorted Sales Data (NaNs last):\\n\", sorted_sales)"
   ]
  },
  {
   "cell_type": "code",
   "execution_count": null,
   "id": "99691ee1",
   "metadata": {},
   "outputs": [],
   "source": [
    "sales_data=pd.Series([250,np.nan,175,300,np.nan,220],\n",
    "                     index=[7,4,3,2,8,9])\n",
    "\n",
    "sorted_sales=sales_data.sort_index(ascending=True)\n",
    "\n",
    "print(\"\\nSorted Sales Data(NaNs Last):\\n\",sorted_sales)"
   ]
  },
  {
   "cell_type": "code",
   "execution_count": null,
   "id": "be3b8860",
   "metadata": {},
   "outputs": [],
   "source": [
    "sales_data=pd.Series([250,np.nan,175,300,np.nan,220],\n",
    "                      index=[7,4,3,2,8,9])\n",
    "\n",
    "sales_data.isnull()"
   ]
  },
  {
   "cell_type": "code",
   "execution_count": null,
   "id": "323108fd",
   "metadata": {},
   "outputs": [],
   "source": [
    "sales_data=pd.Series([250,np.nan,175,300,np.nan,220],\n",
    "                      index=[7,4,3,2,8,9])\n",
    "\n",
    "sales_data.notnull()"
   ]
  },
  {
   "cell_type": "code",
   "execution_count": null,
   "id": "21d92c96",
   "metadata": {},
   "outputs": [],
   "source": [
    "week1_sales=np.linspace(start=0,stop=300,num=5)\n",
    "\n",
    "week2_sales=np.linspace(start=0,stop=400,num=5)\n",
    "\n",
    "week1_sales_series=pd.Series(data=week1_sales)\n",
    "\n",
    "week2_sales_series=pd.Series(data=week2_sales)\n",
    "\n",
    "\n",
    "print(pd.concat([week1_sales_series,week2_sales_series]))\n"
   ]
  },
  {
   "cell_type": "code",
   "execution_count": null,
   "id": "0114d4d6",
   "metadata": {},
   "outputs": [],
   "source": [
    "week1_sales=np.linspace(start=0,stop=300,num=5)\n",
    "\n",
    "week2_sales=np.linspace(start=0,stop=400,num=5)\n",
    "\n",
    "week1_sales_series=pd.Series(data=week1_sales)\n",
    "\n",
    "week2_sales_series = pd.Series(data = week2_sales)\n",
    "\n",
    "print(week1_sales_series)\n",
    "\n",
    "print(week2_sales_series)\n",
    "\n"
   ]
  },
  {
   "cell_type": "code",
   "execution_count": null,
   "id": "2aaf4801",
   "metadata": {},
   "outputs": [],
   "source": [
    "week1_sales=np.linspace(start=0,stop=300,num=5)\n",
    "\n",
    "week2_sales=np.linspace(start=0,stop=400,num=5)\n",
    "\n",
    "week1_sales_series=pd.Series(data=week1_sales)\n",
    "\n",
    "week2_sales_series = pd.Series(data = week2_sales)\n",
    "\n",
    "week1_sales_series.append(week2_sales_series)"
   ]
  },
  {
   "cell_type": "code",
   "execution_count": null,
   "id": "4991a0df",
   "metadata": {},
   "outputs": [],
   "source": [
    "machiene_learning=['Python','Numpy','Pandas','MatplotLib','ML Algorithm','Statistics']\n",
    "\n",
    "df=pd.DataFrame(machiene_learning)\n",
    "\n",
    "df"
   ]
  },
  {
   "cell_type": "code",
   "execution_count": null,
   "id": "d7731451",
   "metadata": {},
   "outputs": [],
   "source": [
    "#create a dataframe from a list of list\n",
    "course_list=[['ML Foundation',8000],['IoT',5000],['Web Development',6500],['O level','4500']]\n",
    "\n",
    "df=pd.DataFrame(course_list,columns=['Course','Fee'])\n",
    "\n",
    "df"
   ]
  },
  {
   "cell_type": "code",
   "execution_count": null,
   "id": "a534a8f3",
   "metadata": {},
   "outputs": [],
   "source": [
    "#creating dataframe from a dictionary\n",
    "\n",
    "data={\n",
    "    'Name':['Alice','Bob','Charlie'],\n",
    "    'Age':[24,27,22],\n",
    "    'City':['New York','Los Angeles','Chicago']\n",
    "    }\n",
    "\n",
    "df=pd.DataFrame(data)\n",
    "\n",
    "df"
   ]
  },
  {
   "cell_type": "code",
   "execution_count": null,
   "id": "884c9be7",
   "metadata": {},
   "outputs": [],
   "source": [
    "#creating dataframe with index  from a dictionary\n",
    "\n",
    "data={\n",
    "    'Name':['Alice','Bob','Charlie'],\n",
    "    'Age':[24,27,22],\n",
    "    'City':['New York','Los Angeles','Chicago']\n",
    "    }\n",
    "\n",
    "df=pd.DataFrame(data,index=['A1','A2','A3'])\n",
    "\n",
    "df"
   ]
  },
  {
   "cell_type": "code",
   "execution_count": null,
   "id": "8d50f263",
   "metadata": {},
   "outputs": [
    {
     "data": {
      "text/html": [
       "<div>\n",
       "<style scoped>\n",
       "    .dataframe tbody tr th:only-of-type {\n",
       "        vertical-align: middle;\n",
       "    }\n",
       "\n",
       "    .dataframe tbody tr th {\n",
       "        vertical-align: top;\n",
       "    }\n",
       "\n",
       "    .dataframe thead th {\n",
       "        text-align: right;\n",
       "    }\n",
       "</style>\n",
       "<table border=\"1\" class=\"dataframe\">\n",
       "  <thead>\n",
       "    <tr style=\"text-align: right;\">\n",
       "      <th></th>\n",
       "      <th>Data</th>\n",
       "      <th>Product</th>\n",
       "      <th>Units Sold</th>\n",
       "      <th>Revenue</th>\n",
       "    </tr>\n",
       "  </thead>\n",
       "  <tbody>\n",
       "    <tr>\n",
       "      <th>0</th>\n",
       "      <td>2025-06-01</td>\n",
       "      <td>Laptop</td>\n",
       "      <td>5</td>\n",
       "      <td>50000</td>\n",
       "    </tr>\n",
       "    <tr>\n",
       "      <th>1</th>\n",
       "      <td>2025-06-01</td>\n",
       "      <td>Mouse</td>\n",
       "      <td>25</td>\n",
       "      <td>2500</td>\n",
       "    </tr>\n",
       "    <tr>\n",
       "      <th>2</th>\n",
       "      <td>2025-06-02</td>\n",
       "      <td>Keyboard</td>\n",
       "      <td>15</td>\n",
       "      <td>7500</td>\n",
       "    </tr>\n",
       "    <tr>\n",
       "      <th>3</th>\n",
       "      <td>2025-06-02</td>\n",
       "      <td>Monitor</td>\n",
       "      <td>7</td>\n",
       "      <td>21000</td>\n",
       "    </tr>\n",
       "  </tbody>\n",
       "</table>\n",
       "</div>"
      ],
      "text/plain": [
       "         Data   Product  Units Sold  Revenue\n",
       "0  2025-06-01    Laptop           5    50000\n",
       "1  2025-06-01     Mouse          25     2500\n",
       "2  2025-06-02  Keyboard          15     7500\n",
       "3  2025-06-02   Monitor           7    21000"
      ]
     },
     "execution_count": 70,
     "metadata": {},
     "output_type": "execute_result"
    }
   ],
   "source": [
    "#Create a dataframe from a list of dictionaries\n",
    "\n",
    "sales_data=[\n",
    "    {'Date':'2025-06-01','Product':'Laptop','Units Sold':5,'Revenue':50000},\n",
    "    {'Date':'2025-06-01','Product':'Mouse','Units Sold':25,'Revenue':2500},\n",
    "    {'Date':'2025-06-02','Product':'Keyboard','Units Sold':15,'Revenue':7500},\n",
    "    {'Date':'2025-06-02','Product':'Monitor','Units Sold':7,'Revenue':21000}\n",
    "]\n",
    "\n",
    "df=pd.DataFrame(sales_data)\n",
    "\n",
    "df"
   ]
  },
  {
   "cell_type": "code",
   "execution_count": null,
   "id": "30b1f689",
   "metadata": {},
   "outputs": [],
   "source": []
  }
 ],
 "metadata": {
  "kernelspec": {
   "display_name": "Python 3",
   "language": "python",
   "name": "python3"
  },
  "language_info": {
   "codemirror_mode": {
    "name": "ipython",
    "version": 3
   },
   "file_extension": ".py",
   "mimetype": "text/x-python",
   "name": "python",
   "nbconvert_exporter": "python",
   "pygments_lexer": "ipython3",
   "version": "3.11.4"
  }
 },
 "nbformat": 4,
 "nbformat_minor": 5
}
