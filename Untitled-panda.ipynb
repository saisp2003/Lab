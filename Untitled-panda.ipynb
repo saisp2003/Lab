{
 "cells": [
  {
   "cell_type": "code",
   "execution_count": null,
   "id": "aab4e39a",
   "metadata": {},
   "outputs": [],
   "source": [
    "import pandas as pd\n",
    "s1=pd.Series([1,2,3,4,5])\n",
    "\n",
    "print(s1)"
   ]
  },
  {
   "cell_type": "code",
   "execution_count": null,
   "id": "303bf5d4",
   "metadata": {},
   "outputs": [],
   "source": [
    "\n",
    "import numpy as np\n",
    "\n",
    "\n",
    "arr=np.array([1,2,3,4,5])\n",
    "\n",
    "s2=pd.Series(arr)\n",
    "\n",
    "s2"
   ]
  },
  {
   "cell_type": "code",
   "execution_count": null,
   "id": "aab54d59",
   "metadata": {},
   "outputs": [],
   "source": [
    "std_mark_series=pd.Series(\n",
    "    np.array([467,265,234,566,456]),\n",
    "    index=['A1','A2','A3','A4','A5']\n",
    ")\n",
    "\n",
    "std_mark_series"
   ]
  },
  {
   "cell_type": "code",
   "execution_count": null,
   "id": "65ee48f5",
   "metadata": {},
   "outputs": [],
   "source": [
    "age_series_index=pd.Series(\n",
    "    np.array([20,37,45,25,76,55]),\n",
    "    index=np.arange(0,12,2)\n",
    ")\n",
    "\n",
    "age_series_index"
   ]
  },
  {
   "cell_type": "code",
   "execution_count": null,
   "id": "d54ee6ef",
   "metadata": {},
   "outputs": [],
   "source": [
    "expense_dict={'rent':2500,'grocery':3000,\n",
    "              'travelling':2000,'insurance':5000}\n",
    "\n",
    "expense_series=pd.Series(expense_dict)\n",
    "\n",
    "expense_series"
   ]
  },
  {
   "cell_type": "code",
   "execution_count": null,
   "id": "c876c3f8",
   "metadata": {},
   "outputs": [],
   "source": [
    "classes_dict={\n",
    "    \"A\":[\"Maths\",\"Science\",\"Physics\"],\n",
    "    \"B\":[\"Maths\",\"English\"],\n",
    "    \"C\":\"Chemistry\"\n",
    "}\n",
    "\n",
    "classes_series=pd.Series(classes_dict)\n",
    "\n",
    "classes_series\n",
    "\n"
   ]
  },
  {
   "cell_type": "code",
   "execution_count": null,
   "id": "2b1a2041",
   "metadata": {},
   "outputs": [],
   "source": [
    "classes_dict={\n",
    "    \"A\":[\"Maths\",\"Science\",\"Physics\"],\n",
    "    \"B\":[\"Maths\",\"English\"],\n",
    "    \"C\":\"Chemistry\"\n",
    "}\n",
    "\n",
    "classes_series=pd.Series(classes_dict)\n",
    "\n",
    "classes_series.index"
   ]
  },
  {
   "cell_type": "code",
   "execution_count": null,
   "id": "d10579fd",
   "metadata": {},
   "outputs": [],
   "source": [
    "classes_dict={\n",
    "    \"A\":[\"Maths\",\"Science\",\"Physics\"],\n",
    "    \"B\":[\"Maths\",\"English\"],\n",
    "    \"C\":\"Chemistry\"\n",
    "}\n",
    "\n",
    "classes_series=pd.Series(classes_dict)\n",
    "\n",
    "classes_series.values"
   ]
  },
  {
   "cell_type": "code",
   "execution_count": null,
   "id": "3c78d510",
   "metadata": {},
   "outputs": [],
   "source": [
    "std_data=np.array(['Ram','Sita','Laxmi','Krishna','Arjun','Madhab'])\n",
    "\n",
    "std_data_series=pd.Series(std_data)\n",
    "\n",
    "print(std_data_series[:5])"
   ]
  },
  {
   "cell_type": "code",
   "execution_count": null,
   "id": "2ac9305a",
   "metadata": {},
   "outputs": [],
   "source": [
    "std_data=np.array(['Ram','Sita','Laxmi','Krishna','Arjun','Madhab'])\n",
    "\n",
    "std_data_series=pd.Series(std_data)\n",
    "\n",
    "print(std_data_series[-5:])"
   ]
  },
  {
   "cell_type": "code",
   "execution_count": null,
   "id": "75786ef8",
   "metadata": {},
   "outputs": [],
   "source": [
    "classes_dict={\n",
    "    \"A\":[\"Maths\",\"Science\",\"Physics\"],\n",
    "    \"B\":[\"Maths\",\"English\"],\n",
    "    \"C\":\"Chemistry\"\n",
    "}\n",
    "\n",
    "classes_series=pd.Series(classes_dict)\n",
    "\n",
    "print(classes_series)\n",
    "\n",
    "print(\"\\n\", classes_series['A'])"
   ]
  },
  {
   "cell_type": "code",
   "execution_count": null,
   "id": "2e67e983",
   "metadata": {},
   "outputs": [],
   "source": [
    "classes_dict={\n",
    "    \"A\":[\"Maths\",\"Science\",\"Physics\"],\n",
    "    \"B\":[\"Maths\",\"English\"],\n",
    "    \"C\":\"Chemistry\"\n",
    "}\n",
    "\n",
    "classes_series=pd.Series(classes_dict)\n",
    "\n",
    "print(classes_series)\n",
    "\n",
    "print(\"\\n\", classes_series[['A','B']])"
   ]
  },
  {
   "cell_type": "code",
   "execution_count": null,
   "id": "55e19571",
   "metadata": {},
   "outputs": [],
   "source": [
    "student_series=pd.Series(\n",
    "\n",
    "    np.array([457,456,540,348,502,480]),\n",
    "    index=['Ram','Sita','Laxmi','Krishna','Madhab','Arjun'])\n",
    "\n",
    "\n",
    "student_series[student_series>500]"
   ]
  },
  {
   "cell_type": "code",
   "execution_count": 5,
   "id": "2ba3d3db",
   "metadata": {},
   "outputs": [
    {
     "name": "stdout",
     "output_type": "stream",
     "text": [
      "0     8\n",
      "1    16\n",
      "2    24\n",
      "3    32\n",
      "4    40\n",
      "dtype: int64\n"
     ]
    }
   ],
   "source": [
    "series1=pd.Series([10,20,30,40,50])\n",
    "\n",
    "series2=pd.Series([2,4,6,8,10])\n",
    "\n",
    "result=series1-series2\n",
    "\n",
    "print(result)"
   ]
  },
  {
   "cell_type": "code",
   "execution_count": null,
   "id": "a017a3c7",
   "metadata": {},
   "outputs": [],
   "source": [
    "sales_series=pd.Series(np.array([200,590,367,678,455]))\n",
    "\n",
    "sales_series*2"
   ]
  },
  {
   "cell_type": "code",
   "execution_count": null,
   "id": "851164eb",
   "metadata": {},
   "outputs": [],
   "source": [
    "student_scores=pd.Series([88,92,75,91,85],\n",
    "                         index=['Alice','Bob','Charlie','David','Eva'])\n",
    "\n",
    "student_ranks=student_scores.rank()\n",
    "\n",
    "print(\"\\nStudent Ranks:\\n\",student_ranks)"
   ]
  },
  {
   "cell_type": "code",
   "execution_count": 3,
   "id": "84ddbbcd",
   "metadata": {},
   "outputs": [
    {
     "name": "stdout",
     "output_type": "stream",
     "text": [
      "\n",
      " Sorted Sales Data (NaNs last):\n",
      " Apr    300.0\n",
      "Jan    250.0\n",
      "Jun    220.0\n",
      "Mar    175.0\n",
      "Feb      NaN\n",
      "May      NaN\n",
      "dtype: float64\n"
     ]
    }
   ],
   "source": [
    "import pandas as pd\n",
    "import numpy as np\n",
    "\n",
    "sales_data = pd.Series(\n",
    "    [250, np.nan, 175, 300, np.nan, 220],\n",
    "    index=['Jan', 'Feb', 'Mar', 'Apr', 'May', 'Jun']\n",
    ")\n",
    "\n",
    "sorted_sales = sales_data.sort_values(ascending=False ,na_position='last')\n",
    "\n",
    "print(\"\\n Sorted Sales Data (NaNs last):\\n\", sorted_sales)"
   ]
  },
  {
   "cell_type": "code",
   "execution_count": null,
   "id": "99691ee1",
   "metadata": {},
   "outputs": [],
   "source": [
    "sales_data=pd.Series([250,np.nan,175,300,np.nan,220],\n",
    "                     index=[7,4,3,2,8,9])\n",
    "\n",
    "sorted_sales=sales_data.sort_index(ascending=True)\n",
    "\n",
    "print(\"\\nSorted Sales Data(NaNs Last):\\n\",sorted_sales)"
   ]
  },
  {
   "cell_type": "code",
   "execution_count": 7,
   "id": "be3b8860",
   "metadata": {},
   "outputs": [
    {
     "data": {
      "text/plain": [
       "7    False\n",
       "4     True\n",
       "3    False\n",
       "2    False\n",
       "8     True\n",
       "9    False\n",
       "dtype: bool"
      ]
     },
     "execution_count": 7,
     "metadata": {},
     "output_type": "execute_result"
    }
   ],
   "source": [
    "sales_data=pd.Series([250,np.nan,175,300,np.nan,220],\n",
    "                      index=[7,4,3,2,8,9])\n",
    "\n",
    "sales_data.isnull()"
   ]
  },
  {
   "cell_type": "code",
   "execution_count": 8,
   "id": "323108fd",
   "metadata": {},
   "outputs": [
    {
     "data": {
      "text/plain": [
       "7     True\n",
       "4    False\n",
       "3     True\n",
       "2     True\n",
       "8    False\n",
       "9     True\n",
       "dtype: bool"
      ]
     },
     "execution_count": 8,
     "metadata": {},
     "output_type": "execute_result"
    }
   ],
   "source": [
    "sales_data=pd.Series([250,np.nan,175,300,np.nan,220],\n",
    "                      index=[7,4,3,2,8,9])\n",
    "\n",
    "sales_data.notnull()"
   ]
  }
 ],
 "metadata": {
  "kernelspec": {
   "display_name": "Python 3",
   "language": "python",
   "name": "python3"
  },
  "language_info": {
   "codemirror_mode": {
    "name": "ipython",
    "version": 3
   },
   "file_extension": ".py",
   "mimetype": "text/x-python",
   "name": "python",
   "nbconvert_exporter": "python",
   "pygments_lexer": "ipython3",
   "version": "3.11.4"
  }
 },
 "nbformat": 4,
 "nbformat_minor": 5
}
