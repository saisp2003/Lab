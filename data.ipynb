{
 "cells": [
  {
   "cell_type": "code",
   "execution_count": null,
   "id": "156e4501",
   "metadata": {},
   "outputs": [],
   "source": [
    "import numpy as np\n",
    "import pandas as pd\n",
    "import matplotlib.pyplot as plt\n",
    "import seaborn as sms\n"
   ]
  },
  {
   "cell_type": "code",
   "execution_count": null,
   "id": "47ec2ea9",
   "metadata": {},
   "outputs": [],
   "source": [
    "df=pd.read_csv('Titanic-Dataset.csv')\n",
    "original_df=df.copy()\n",
    "df\n"
   ]
  },
  {
   "cell_type": "code",
   "execution_count": null,
   "id": "e69fea04",
   "metadata": {},
   "outputs": [],
   "source": [
    "df.info()"
   ]
  },
  {
   "cell_type": "code",
   "execution_count": null,
   "id": "fa9e374e",
   "metadata": {},
   "outputs": [],
   "source": [
    "#categorical columns\n",
    "cat_col=[col for col in df.columns if df[col].dtype=='object']\n",
    "print('Categorical Columns:',cat_col)\n",
    "\n",
    "#Numerical Columns\n",
    "num_col=[col for col in df.columns if df[col].dtype!='object']\n",
    "print('Numerical Columns:',num_col)"
   ]
  },
  {
   "cell_type": "code",
   "execution_count": null,
   "id": "4b7f6625",
   "metadata": {},
   "outputs": [],
   "source": [
    "#prints total number of unique values \n",
    "\n",
    "df[cat_col].nunique()"
   ]
  },
  {
   "cell_type": "code",
   "execution_count": null,
   "id": "cceccbfd",
   "metadata": {},
   "outputs": [],
   "source": [
    "df.duplicated()"
   ]
  },
  {
   "cell_type": "code",
   "execution_count": null,
   "id": "eb6b5f2b",
   "metadata": {},
   "outputs": [],
   "source": [
    "df_clean=df.drop(columns=['Name','Ticket','Cabin','PassengerId'])\n",
    "df_clean"
   ]
  },
  {
   "cell_type": "code",
   "execution_count": null,
   "id": "1c0aa139",
   "metadata": {},
   "outputs": [],
   "source": [
    "# print(df.isnull()) or print(df.isna())\n",
    "# print(df.notnull())\n",
    "# print(df.info())\n",
    "# print(df.isnull().any())\n",
    "# print(df.isnull().sum())\n",
    "# print(df.isnull().sum().sum())"
   ]
  },
  {
   "cell_type": "code",
   "execution_count": null,
   "id": "60a13b97",
   "metadata": {},
   "outputs": [],
   "source": [
    "round((df.isnull().sum()/df.shape[0])*100,2)"
   ]
  },
  {
   "cell_type": "code",
   "execution_count": null,
   "id": "b68810ce",
   "metadata": {},
   "outputs": [],
   "source": [
    "# #remove rows\n",
    "# df_dropna_rows=df.dropna(inplace=True)\n",
    "\n",
    "# df.shape"
   ]
  },
  {
   "cell_type": "code",
   "execution_count": null,
   "id": "cde1b571",
   "metadata": {},
   "outputs": [],
   "source": [
    "# #remove columns\n",
    "# df_dropna_cols=df.dropna(axis=1,inplace=True)\n",
    "# df.shape"
   ]
  },
  {
   "cell_type": "code",
   "execution_count": null,
   "id": "86afdfcc",
   "metadata": {},
   "outputs": [],
   "source": [
    "from sklearn.impute import SimpleImputer\n",
    "\n",
    "df_mean_impute=df.copy()\n",
    "mean_imputer=SimpleImputer(strategy='mean')\n",
    "df_mean_impute['Age']=mean_imputer.fit_transform(df_mean_impute[['Age']])\n",
    "\n",
    "df_mean_impute['Age'].isnull().sum()"
   ]
  },
  {
   "cell_type": "code",
   "execution_count": null,
   "id": "ba283afc",
   "metadata": {},
   "outputs": [],
   "source": [
    "from sklearn.impute import SimpleImputer\n",
    "\n",
    "\n",
    "df_impute=df.copy()\n",
    "mode_imputer=SimpleImputer(strategy='mst_frequent')\n",
    "df_impute[['Embarked']]=mode_imputer.fit_transform(df_impute[['Embarked']])\n",
    "\n",
    "df_impute[['Embarked']].isnull().sum()"
   ]
  },
  {
   "cell_type": "code",
   "execution_count": 121,
   "id": "07718d1c",
   "metadata": {},
   "outputs": [
    {
     "name": "stderr",
     "output_type": "stream",
     "text": [
      "C:\\Users\\Sai Sidhartha Padhy\\AppData\\Local\\Temp\\ipykernel_7496\\1491441403.py:2: FutureWarning: DataFrame.fillna with 'method' is deprecated and will raise in a future version. Use obj.ffill() or obj.bfill() instead.\n",
      "  df_fill.fillna(method='ffill',inplace=True)\n"
     ]
    },
    {
     "data": {
      "text/plain": [
       "PassengerId    0\n",
       "Survived       0\n",
       "Pclass         0\n",
       "Name           0\n",
       "Sex            0\n",
       "Age            0\n",
       "SibSp          0\n",
       "Parch          0\n",
       "Ticket         0\n",
       "Fare           0\n",
       "Cabin          1\n",
       "Embarked       0\n",
       "dtype: int64"
      ]
     },
     "execution_count": 121,
     "metadata": {},
     "output_type": "execute_result"
    }
   ],
   "source": [
    "df_fill=df.copy()\n",
    "df_fill.fillna(method='ffill',inplace=True)\n",
    "\n",
    "df_fill.isnull().sum()"
   ]
  },
  {
   "cell_type": "code",
   "execution_count": 124,
   "id": "8279b7e6",
   "metadata": {},
   "outputs": [
    {
     "name": "stderr",
     "output_type": "stream",
     "text": [
      "C:\\Users\\Sai Sidhartha Padhy\\AppData\\Local\\Temp\\ipykernel_7496\\811326936.py:2: FutureWarning: DataFrame.fillna with 'method' is deprecated and will raise in a future version. Use obj.ffill() or obj.bfill() instead.\n",
      "  df_bfill.fillna(method='bfill',inplace=True)\n"
     ]
    },
    {
     "data": {
      "text/plain": [
       "PassengerId    0\n",
       "Survived       0\n",
       "Pclass         0\n",
       "Name           0\n",
       "Sex            0\n",
       "Age            0\n",
       "SibSp          0\n",
       "Parch          0\n",
       "Ticket         0\n",
       "Fare           0\n",
       "Cabin          1\n",
       "Embarked       0\n",
       "dtype: int64"
      ]
     },
     "execution_count": 124,
     "metadata": {},
     "output_type": "execute_result"
    }
   ],
   "source": [
    "df_bfill=df.copy()\n",
    "df_bfill.fillna(method='bfill',inplace=True)\n",
    "\n",
    "df_bfill.isnull().sum()"
   ]
  },
  {
   "cell_type": "code",
   "execution_count": 126,
   "id": "c508d115",
   "metadata": {},
   "outputs": [
    {
     "name": "stderr",
     "output_type": "stream",
     "text": [
      "C:\\Users\\Sai Sidhartha Padhy\\AppData\\Local\\Temp\\ipykernel_7496\\3918370158.py:4: FutureWarning: A value is trying to be set on a copy of a DataFrame or Series through chained assignment using an inplace method.\n",
      "The behavior will change in pandas 3.0. This inplace method will never work because the intermediate object on which we are setting values always behaves as a copy.\n",
      "\n",
      "For example, when doing 'df[col].method(value, inplace=True)', try using 'df.method({col: value}, inplace=True)' or df[col] = df[col].method(value) instead, to perform the operation inplace on the original object.\n",
      "\n",
      "\n",
      "  df_custom['Cabin'].fillna('Unknown',inplace=True)\n"
     ]
    },
    {
     "data": {
      "text/plain": [
       "np.int64(0)"
      ]
     },
     "execution_count": 126,
     "metadata": {},
     "output_type": "execute_result"
    }
   ],
   "source": [
    "#Fill with custom value\n",
    "\n",
    "df_custom=df.copy()\n",
    "df_custom['Cabin'].fillna('Unknown',inplace=True)\n",
    "\n",
    "df_custom['Cabin'].isnull().sum()"
   ]
  },
  {
   "cell_type": "code",
   "execution_count": null,
   "id": "53d19a11",
   "metadata": {},
   "outputs": [],
   "source": []
  }
 ],
 "metadata": {
  "kernelspec": {
   "display_name": "Python 3",
   "language": "python",
   "name": "python3"
  },
  "language_info": {
   "codemirror_mode": {
    "name": "ipython",
    "version": 3
   },
   "file_extension": ".py",
   "mimetype": "text/x-python",
   "name": "python",
   "nbconvert_exporter": "python",
   "pygments_lexer": "ipython3",
   "version": "3.11.4"
  }
 },
 "nbformat": 4,
 "nbformat_minor": 5
}
