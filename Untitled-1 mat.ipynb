{
 "cells": [
  {
   "cell_type": "code",
   "execution_count": null,
   "id": "9f6197e4",
   "metadata": {},
   "outputs": [],
   "source": [
    "import numpy as np\n",
    "import pandas as pd\n",
    "import matplotlib.pyplot as plt"
   ]
  },
  {
   "cell_type": "code",
   "execution_count": null,
   "id": "ba3f8e5d",
   "metadata": {},
   "outputs": [],
   "source": [
    "x=np.arange(11)\n",
    "x"
   ]
  },
  {
   "cell_type": "code",
   "execution_count": null,
   "id": "7845adae",
   "metadata": {},
   "outputs": [],
   "source": [
    "y=x*2\n",
    "\n",
    "y"
   ]
  },
  {
   "cell_type": "code",
   "execution_count": null,
   "id": "ad66a957",
   "metadata": {},
   "outputs": [],
   "source": [
    "plt.plot(x,y)\n",
    "plt.title(\"Line Plot\")\n",
    "plt.xlabel(\"X Axis\")\n",
    "plt.ylabel(\"Y Axis\")\n",
    "plt.show()"
   ]
  },
  {
   "cell_type": "code",
   "execution_count": null,
   "id": "eeb1ce2b",
   "metadata": {},
   "outputs": [],
   "source": [
    "plt.plot(x,y,color='black',linestyle='dashed',linewidth='10')\n",
    "\n",
    "plt.show()"
   ]
  },
  {
   "cell_type": "code",
   "execution_count": null,
   "id": "2eb6c1a5",
   "metadata": {},
   "outputs": [],
   "source": [
    "#Multiple lines\n",
    "x=np.arange(1,11)\n",
    "\n",
    "y1=2*x\n",
    "\n",
    "y2=3*x\n",
    "\n",
    "plt.plot(x,y1,label=\"y=2x\",color=\"blue\",linewidth=2)\n",
    "\n",
    "plt.plot(x,y2,label=\"y=3x\",color=\"red\",linewidth=3)\n",
    "\n",
    "plt.title(\"Multiple Lines\")\n",
    "\n",
    "plt.xlabel(\"X-axis\")\n",
    "\n",
    "plt.ylabel(\"Y-axis\")\n",
    "\n",
    "plt.grid()\n",
    "\n",
    "plt.legend()\n",
    "\n",
    "plt.show()"
   ]
  },
  {
   "cell_type": "markdown",
   "id": "5d3fc285",
   "metadata": {},
   "source": [
    "Adding Subplot"
   ]
  },
  {
   "cell_type": "code",
   "execution_count": null,
   "id": "3f361382",
   "metadata": {},
   "outputs": [],
   "source": [
    "x=np.arange(1,11)\n",
    "y1=2*x\n",
    "y2=3*x\n",
    "plt.subplot(1,2,1)\n",
    "plt.plot(x,y1,color='red',linewidth=2,label='y=2x')\n",
    "plt.subplot(1,2,2)\n",
    "plt.plot(x,y2,color='blue',linewidth=2,label='y=3x')\n",
    "plt.show()\n"
   ]
  },
  {
   "cell_type": "markdown",
   "id": "adb9843c",
   "metadata": {},
   "source": [
    "Bar Plot"
   ]
  },
  {
   "cell_type": "code",
   "execution_count": null,
   "id": "158e3b7b",
   "metadata": {},
   "outputs": [],
   "source": [
    "students={'John':24,'Alice':22,'Bob':28,'Diana':25}\n",
    "\n",
    "names=list(students.keys())\n",
    "\n",
    "ages=list(students.values())\n",
    "\n",
    "plt.bar(names,ages,color='cyan')\n",
    "\n",
    "plt.show()"
   ]
  },
  {
   "cell_type": "code",
   "execution_count": null,
   "id": "9fc66c46",
   "metadata": {},
   "outputs": [],
   "source": [
    "students={'John':24,'Alice':22,'Bob':28,'Diana':25}\n",
    "\n",
    "names=list(students.keys())\n",
    "\n",
    "ages=list(students.values())\n",
    "\n",
    "plt.barh(names,ages,color='red')\n",
    "\n",
    "plt.grid(True)\n",
    "\n",
    "plt.show()"
   ]
  },
  {
   "cell_type": "markdown",
   "id": "496523b6",
   "metadata": {},
   "source": [
    "Creating a scatter plot"
   ]
  },
  {
   "cell_type": "code",
   "execution_count": null,
   "id": "cdf9c386",
   "metadata": {},
   "outputs": [],
   "source": [
    "x = np.arange(1, 11)\n",
    "y = np.random.randint(1, 100, size=10)\n",
    "\n",
    "plt.scatter(x, y, color='yellow')\n",
    "plt.title(\"Scatter Plot\")\n",
    "plt.show()"
   ]
  },
  {
   "cell_type": "markdown",
   "id": "89a06cff",
   "metadata": {},
   "source": [
    "Changing Mark Aesthetics"
   ]
  },
  {
   "cell_type": "code",
   "execution_count": null,
   "id": "ffe18bb0",
   "metadata": {},
   "outputs": [],
   "source": [
    "x = np.arange(1, 11)\n",
    "y = np.random.randint(1, 100, size=10)\n",
    "\n",
    "plt.scatter(x, y, color='olive',marker='*',s=100)\n",
    "plt.title(\"Scatter Plot\")\n",
    "plt.show()"
   ]
  },
  {
   "cell_type": "markdown",
   "id": "2b5f610e",
   "metadata": {},
   "source": [
    "Multiple Scatter plots"
   ]
  },
  {
   "cell_type": "code",
   "execution_count": null,
   "id": "9c772c0e",
   "metadata": {},
   "outputs": [],
   "source": [
    "x=np.arange(0,11)\n",
    "\n",
    "a1=np.random.randint(1,100,size=10)\n",
    "\n",
    "b1=np.random.randint(1,100,size=10)\n",
    "\n",
    "plt.scatter(x,a1,color='blue',label='Dataset A',marker=\"s=50)\n",
    "\n",
    "\n",
    "plt.scatter(x,b1,color='red',label='Dataset B',marker=\"*\",s=50)\n",
    "\n",
    "plt.title(\"Multiple Scatter Plot\")\n",
    "\n",
    "plt.xlabel(\"X Axis\")\n",
    "\n",
    "plt.ylabel(\"Y Axis\")\n",
    "\n",
    "plt.legend()\n",
    "\n",
    "plt.grid(True)\n",
    "\n",
    "plt.show()"
   ]
  },
  {
   "cell_type": "code",
   "execution_count": null,
   "id": "3e1c3cde",
   "metadata": {},
   "outputs": [],
   "source": [
    "x=np.arange(0,20)\n",
    "\n",
    "a1=np.random.randint(1,100,size=20)\n",
    "\n",
    "b1=np.random.randint(1,100,size=20)\n",
    "\n",
    "plt.scatter(x,a1,color='blue',label='Dataset A',marker=\"o\")\n",
    "\n",
    "\n",
    "plt.scatter(x,b1,color='red',label='Dataset B',marker=\"X\")\n",
    "\n",
    "plt.title(\"Multiple Scatter Plot\")\n",
    "\n",
    "plt.xlabel(\"X Axis\")\n",
    "\n",
    "plt.ylabel(\"Y Axis\")\n",
    "\n",
    "plt.legend()\n",
    "\n",
    "plt.grid(True)\n",
    "\n",
    "plt.show()\n"
   ]
  },
  {
   "cell_type": "code",
   "execution_count": null,
   "id": "b902450f",
   "metadata": {},
   "outputs": [],
   "source": [
    "x=np.arange(0,20)\n",
    "\n",
    "a1=np.random.randint(1,100,size=20)\n",
    "\n",
    "b1=np.random.randint(1,100,size=20)\n",
    "\n",
    "plt.subplot(1,2,1)\n",
    "\n",
    "plt.scatter(x,a1,color='blue',label='Dataset A',marker=\"o\")\n",
    "\n",
    "plt.subplot(1,2,2)\n",
    "\n",
    "plt.scatter(x,b1,color='red',label='Dataset B',marker=\"X\")\n",
    "\n",
    "plt.title(\"Multiple Scatter Plot\")\n",
    "\n",
    "plt.xlabel(\"X Axis\")\n",
    "\n",
    "plt.ylabel(\"Y Axis\")\n",
    "\n",
    "plt.legend()\n",
    "\n",
    "plt.grid(True)\n",
    "\n",
    "plt.show()"
   ]
  },
  {
   "cell_type": "markdown",
   "id": "f6f7277f",
   "metadata": {},
   "source": [
    "Histogram"
   ]
  },
  {
   "cell_type": "code",
   "execution_count": 68,
   "id": "3637c135",
   "metadata": {},
   "outputs": [
    {
     "data": {
      "image/png": "[encoded data removed]",
      "text/plain": [
       "<Figure size 640x480 with 1 Axes>"
      ]
     },
     "metadata": {},
     "output_type": "display_data"
    }
   ],
   "source": [
    "data=np.random.randn(100000)\n",
    "\n",
    "plt.hist(data,bins=5,color='red',edgecolor='black')\n",
    "\n",
    "plt.title(\"Histogram\")\n",
    "\n",
    "\n",
    "plt.xlabel(\"Value\")\n",
    "\n",
    "plt.ylabel(\"Frequency\")\n",
    "\n",
    "plt.show()"
   ]
  },
  {
   "cell_type": "markdown",
   "id": "f46e95ee",
   "metadata": {},
   "source": [
    "BOX PLOT"
   ]
  },
  {
   "cell_type": "code",
   "execution_count": 70,
   "id": "4bf534f2",
   "metadata": {},
   "outputs": [
    {
     "data": {
      "image/png": "[encoded data removed]",
      "text/plain": [
       "<Figure size 640x480 with 1 Axes>"
      ]
     },
     "metadata": {},
     "output_type": "display_data"
    }
   ],
   "source": [
    "one=np.random.randint(1,100,size=10)\n",
    "\n",
    "two=np.random.randint(1,100,size=10)\n",
    "\n",
    "three=np.random.randint(1,100,size=10)\n",
    "\n",
    "data=list([one,two,three])\n",
    "\n",
    "plt.boxplot(data)\n",
    "\n",
    "plt.show()"
   ]
  },
  {
   "cell_type": "markdown",
   "id": "e209d542",
   "metadata": {},
   "source": [
    "Violin Plot"
   ]
  },
  {
   "cell_type": "code",
   "execution_count": 71,
   "id": "ce207143",
   "metadata": {},
   "outputs": [
    {
     "data": {
      "image/png": "[encoded data removed]",
      "text/plain": [
       "<Figure size 640x480 with 1 Axes>"
      ]
     },
     "metadata": {},
     "output_type": "display_data"
    }
   ],
   "source": [
    "one=np.random.randint(1,100,size=10)\n",
    "\n",
    "two=np.random.randint(1,100,size=10)\n",
    "\n",
    "three=np.random.randint(1,100,size=10)\n",
    "\n",
    "plt.violinplot([one,two,three],showmeans=True)\n",
    "\n",
    "plt.title(\"Violin Plot\")\n",
    "\n",
    "plt.show()"
   ]
  },
  {
   "cell_type": "markdown",
   "id": "c39bdeff",
   "metadata": {},
   "source": [
    "PiePlot"
   ]
  },
  {
   "cell_type": "code",
   "execution_count": 75,
   "id": "b3bc7227",
   "metadata": {},
   "outputs": [
    {
     "data": {
      "image/png": "[encoded data removed]",
      "text/plain": [
       "<Figure size 640x480 with 1 Axes>"
      ]
     },
     "metadata": {},
     "output_type": "display_data"
    }
   ],
   "source": [
    "fruits=['Apple','Banana','Cherry','Dragon Fruit']\n",
    "\n",
    "quantities=[10,25,24,15]\n",
    "\n",
    "plt.pie(quantities,labels=fruits,autopct='%1.1f%%',startangle=140)\n",
    "\n",
    "plt.title(\"Pie Chart\")\n",
    "\n",
    "plt.show()"
   ]
  },
  {
   "cell_type": "markdown",
   "id": "731e1311",
   "metadata": {},
   "source": [
    "Doughnut- Chart"
   ]
  },
  {
   "cell_type": "code",
   "execution_count": null,
   "id": "12611455",
   "metadata": {},
   "outputs": [],
   "source": [
    "fruits=['Apple','Banana']"
   ]
  }
 ],
 "metadata": {
  "kernelspec": {
   "display_name": "Python 3",
   "language": "python",
   "name": "python3"
  },
  "language_info": {
   "codemirror_mode": {
    "name": "ipython",
    "version": 3
   },
   "file_extension": ".py",
   "mimetype": "text/x-python",
   "name": "python",
   "nbconvert_exporter": "python",
   "pygments_lexer": "ipython3",
   "version": "3.11.4"
  }
 },
 "nbformat": 4,
 "nbformat_minor": 5
}
